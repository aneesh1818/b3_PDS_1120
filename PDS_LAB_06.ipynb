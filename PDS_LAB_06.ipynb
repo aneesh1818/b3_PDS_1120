{
  "nbformat": 4,
  "nbformat_minor": 0,
  "metadata": {
    "colab": {
      "provenance": []
    },
    "kernelspec": {
      "name": "python3",
      "display_name": "Python 3"
    },
    "language_info": {
      "name": "python"
    }
  },
  "cells": [
    {
      "cell_type": "markdown",
      "source": [
        "#Lab-06"
      ],
      "metadata": {
        "id": "dC_5bKVOHfwb"
      }
    },
    {
      "cell_type": "markdown",
      "source": [
        "question 1\n"
      ],
      "metadata": {
        "id": "H2YgDKyXIp5a"
      }
    },
    {
      "cell_type": "code",
      "execution_count": 1,
      "metadata": {
        "colab": {
          "base_uri": "https://localhost:8080/",
          "height": 0
        },
        "id": "2eZ2uhQ3HdoN",
        "outputId": "2b3e7f45-8a9b-4f7e-f008-6095cba90587"
      },
      "outputs": [
        {
          "output_type": "stream",
          "name": "stdout",
          "text": [
            "Original Sales Dataset:\n",
            "   TransactionID Customer  Amount        Date\n",
            "0            101    Alice     250  2025-01-01\n",
            "1            102      Bob     300  2025-01-02\n",
            "2            103  Charlie     150  2025-01-03\n",
            "3            104    David     400  2025-01-04\n",
            "4            105      Eva     500  2025-01-05\n",
            "5            103  Charlie     150  2025-01-03\n",
            "6            104    David     400  2025-01-04\n",
            "\n",
            "Duplicate Rows:\n",
            "   TransactionID Customer  Amount        Date\n",
            "5            103  Charlie     150  2025-01-03\n",
            "6            104    David     400  2025-01-04\n",
            "\n",
            "Before Removing Duplicates: 7\n",
            "After Removing Duplicates: 5\n",
            "\n",
            "Cleaned Sales Dataset:\n",
            "   TransactionID Customer  Amount        Date\n",
            "0            101    Alice     250  2025-01-01\n",
            "1            102      Bob     300  2025-01-02\n",
            "2            103  Charlie     150  2025-01-03\n",
            "3            104    David     400  2025-01-04\n",
            "4            105      Eva     500  2025-01-05\n"
          ]
        }
      ],
      "source": [
        "import pandas as pd\n",
        "\n",
        "# Step 1: Create a sample sales dataset with duplicate entries\n",
        "data = {\n",
        "    \"TransactionID\": [101, 102, 103, 104, 105, 103, 104],  # duplicate IDs for 103 and 104\n",
        "    \"Customer\": [\"Alice\", \"Bob\", \"Charlie\", \"David\", \"Eva\", \"Charlie\", \"David\"],\n",
        "    \"Amount\": [250, 300, 150, 400, 500, 150, 400],\n",
        "    \"Date\": [\"2025-01-01\", \"2025-01-02\", \"2025-01-03\", \"2025-01-04\", \"2025-01-05\",\n",
        "             \"2025-01-03\", \"2025-01-04\"]\n",
        "}\n",
        "\n",
        "df_sales = pd.DataFrame(data)\n",
        "\n",
        "print(\"Original Sales Dataset:\")\n",
        "print(df_sales)\n",
        "\n",
        "# Step 2: Check for duplicates\n",
        "print(\"\\nDuplicate Rows:\")\n",
        "print(df_sales[df_sales.duplicated()])\n",
        "\n",
        "# Step 3: Count before removing\n",
        "print(\"\\nBefore Removing Duplicates:\", len(df_sales))\n",
        "\n",
        "# Step 4: Remove duplicates\n",
        "df_sales_cleaned = df_sales.drop_duplicates()\n",
        "\n",
        "# Step 5: Count after removing\n",
        "print(\"After Removing Duplicates:\", len(df_sales_cleaned))\n",
        "\n",
        "print(\"\\nCleaned Sales Dataset:\")\n",
        "print(df_sales_cleaned)\n"
      ]
    },
    {
      "cell_type": "markdown",
      "source": [
        "2nd question\n"
      ],
      "metadata": {
        "id": "KNb9ZxYkIlto"
      }
    },
    {
      "cell_type": "code",
      "source": [
        "import pandas as pd\n",
        "\n",
        "# Step 1: Create a dataset with wrong data types\n",
        "data = {\n",
        "    \"EmployeeID\": [1, 2, 3],\n",
        "    \"Name\": [\"John\", \"Alice\", \"Bob\"],\n",
        "    \"Salary\": [\"50000\", \"60000\", \"55000\"],  # stored as string\n",
        "    \"Joining_Date\": [\"2025-01-15\", \"2024-12-20\", \"2025-02-10\"]  # stored as string\n",
        "}\n",
        "\n",
        "df_employee = pd.DataFrame(data)\n",
        "\n",
        "print(\"Original Employee Dataset (with wrong data types):\")\n",
        "print(df_employee.dtypes)\n",
        "\n",
        "# Step 2: Convert Salary to numeric\n",
        "df_employee[\"Salary\"] = pd.to_numeric(df_employee[\"Salary\"])\n",
        "\n",
        "# Step 3: Convert Joining_Date to datetime\n",
        "df_employee[\"Joining_Date\"] = pd.to_datetime(df_employee[\"Joining_Date\"])\n",
        "\n",
        "print(\"\\nCorrected Employee Dataset (with correct data types):\")\n",
        "print(df_employee.dtypes)\n",
        "\n",
        "print(\"\\nFinal Employee Dataset:\")\n",
        "print(df_employee)\n"
      ],
      "metadata": {
        "colab": {
          "base_uri": "https://localhost:8080/",
          "height": 0
        },
        "id": "y6xcMAyzH4jJ",
        "outputId": "e1daa18f-2ee9-4557-a5da-0a3cdb3912ed"
      },
      "execution_count": 2,
      "outputs": [
        {
          "output_type": "stream",
          "name": "stdout",
          "text": [
            "Original Employee Dataset (with wrong data types):\n",
            "EmployeeID       int64\n",
            "Name            object\n",
            "Salary          object\n",
            "Joining_Date    object\n",
            "dtype: object\n",
            "\n",
            "Corrected Employee Dataset (with correct data types):\n",
            "EmployeeID               int64\n",
            "Name                    object\n",
            "Salary                   int64\n",
            "Joining_Date    datetime64[ns]\n",
            "dtype: object\n",
            "\n",
            "Final Employee Dataset:\n",
            "   EmployeeID   Name  Salary Joining_Date\n",
            "0           1   John   50000   2025-01-15\n",
            "1           2  Alice   60000   2024-12-20\n",
            "2           3    Bob   55000   2025-02-10\n"
          ]
        }
      ]
    }
  ]
}