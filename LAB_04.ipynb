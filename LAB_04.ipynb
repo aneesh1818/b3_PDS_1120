{
  "nbformat": 4,
  "nbformat_minor": 0,
  "metadata": {
    "colab": {
      "provenance": [],
      "authorship_tag": "ABX9TyMp7SqO+NfMttPo9XxRlZ3g",
      "include_colab_link": true
    },
    "kernelspec": {
      "name": "python3",
      "display_name": "Python 3"
    },
    "language_info": {
      "name": "python"
    }
  },
  "cells": [
    {
      "cell_type": "markdown",
      "metadata": {
        "id": "view-in-github",
        "colab_type": "text"
      },
      "source": [
        "<a href=\"https://colab.research.google.com/github/aneesh1818/b3_PDS_1120/blob/main/LAB_04.ipynb\" target=\"_parent\"><img src=\"https://colab.research.google.com/assets/colab-badge.svg\" alt=\"Open In Colab\"/></a>"
      ]
    },
    {
      "cell_type": "markdown",
      "source": [
        "LAB-04"
      ],
      "metadata": {
        "id": "07nySB5S05Mt"
      }
    },
    {
      "cell_type": "code",
      "source": [
        "import pandas as pd\n",
        "\n",
        "df = pd.read_csv(\"/content/student_scores.csv\")\n",
        "\n",
        "print(\"Original Data:\\n\", df)\n",
        "\n",
        "df.fillna(df.mean(numeric_only=True), inplace=True)\n",
        "\n",
        "print(\"\\nData after filling missing values:\\n\", df)\n",
        "\n",
        "high_achievers = df[(df['Math'] > 75) & (df['Science'] > 75) & (df['English'] > 75)]\n",
        "\n",
        "print(\"\\nHigh Achievers (scored > 75 in all subjects):\\n\", high_achievers)"
      ],
      "metadata": {
        "colab": {
          "base_uri": "https://localhost:8080/"
        },
        "id": "44ACPEps6_mt",
        "outputId": "3a211574-b7b5-43ad-f78f-46d78e28ab22"
      },
      "execution_count": 3,
      "outputs": [
        {
          "output_type": "stream",
          "name": "stdout",
          "text": [
            "Original Data:\n",
            "    Student_ID   Name  Math  Science  English\n",
            "0           1  Anita  80.0     90.0     85.0\n",
            "1           2   Ravi  70.0      NaN     78.0\n",
            "2           3  Meena  88.0     92.0      NaN\n",
            "3           4  Kiran  60.0     65.0     70.0\n",
            "4           5  Arjun   NaN     80.0     82.0\n",
            "\n",
            "Data after filling missing values:\n",
            "    Student_ID   Name  Math  Science  English\n",
            "0           1  Anita  80.0    90.00    85.00\n",
            "1           2   Ravi  70.0    81.75    78.00\n",
            "2           3  Meena  88.0    92.00    78.75\n",
            "3           4  Kiran  60.0    65.00    70.00\n",
            "4           5  Arjun  74.5    80.00    82.00\n",
            "\n",
            "High Achievers (scored > 75 in all subjects):\n",
            "    Student_ID   Name  Math  Science  English\n",
            "0           1  Anita  80.0     90.0    85.00\n",
            "2           3  Meena  88.0     92.0    78.75\n"
          ]
        }
      ]
    },
    {
      "cell_type": "code",
      "source": [
        "import pandas as pd\n",
        "\n",
        "df = pd.read_csv(\"/content/patients.csv\")\n",
        "\n",
        "df[\"Age\"] = df[\"Age\"].fillna(df[\"Age\"].median())\n",
        "\n",
        "filtered = df[(df[\"Gender\"] == \"Female\") & (df[\"Age\"] > 50) & (df[\"Diagnosis\"] == \"Diabetes\")]\n",
        "\n",
        "print(\"Elderly Female Diabetes Patients\")\n",
        "print(filtered)"
      ],
      "metadata": {
        "colab": {
          "base_uri": "https://localhost:8080/"
        },
        "id": "M13lmhup7XuV",
        "outputId": "a8eee937-a7ce-4230-aee9-2996c8ec4cba"
      },
      "execution_count": 4,
      "outputs": [
        {
          "output_type": "stream",
          "name": "stdout",
          "text": [
            "Elderly Female Diabetes Patients\n",
            "  Patient_ID     Name   Age  Gender Diagnosis Admission_Date\n",
            "0       P101    Anita  65.0  Female  Diabetes     2025-08-01\n",
            "2       P103  Kavitha  55.0  Female  Diabetes     2025-08-05\n",
            "4       P105  Lakshmi  72.0  Female  Diabetes     2025-08-10\n"
          ]
        }
      ]
    }
  ]
}