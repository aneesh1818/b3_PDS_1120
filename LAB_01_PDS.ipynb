{
  "nbformat": 4,
  "nbformat_minor": 0,
  "metadata": {
    "colab": {
      "provenance": []
    },
    "kernelspec": {
      "name": "python3",
      "display_name": "Python 3"
    },
    "language_info": {
      "name": "python"
    }
  },
  "cells": [
    {
      "cell_type": "code",
      "execution_count": 4,
      "metadata": {
        "colab": {
          "base_uri": "https://localhost:8080/"
        },
        "id": "jie3Lr3T-yt2",
        "outputId": "94855f6c-0f58-4cca-bfac-0e32299160b8"
      },
      "outputs": [
        {
          "output_type": "stream",
          "name": "stdout",
          "text": [
            "Enter a number (≤ 10): 7\n",
            "\n",
            "Result: 5040\n"
          ]
        }
      ],
      "source": [
        "def fact(n, depth=0):\n",
        "    space = \"  \" * depth\n",
        "    if n == 0 or n == 1:\n",
        "        return 1\n",
        "    else:\n",
        "        res = n * fact(n - 1, depth + 1)\n",
        "        return res\n",
        "\n",
        "num = int(input(\"Enter a number (≤ 10): \"))\n",
        "if 0 <= num <= 10:\n",
        "    result = fact(num)\n",
        "    print(f\"\\nResult: {result}\")\n",
        "else:\n",
        "    print(\"Invalid input. Please enter a number between 0 and 10.\")"
      ]
    }
  ]
}