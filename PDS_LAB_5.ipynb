{
  "nbformat": 4,
  "nbformat_minor": 0,
  "metadata": {
    "colab": {
      "provenance": [],
      "authorship_tag": "ABX9TyMibJEqxbe7R9Xabar68ZPI",
      "include_colab_link": true
    },
    "kernelspec": {
      "name": "python3",
      "display_name": "Python 3"
    },
    "language_info": {
      "name": "python"
    }
  },
  "cells": [
    {
      "cell_type": "markdown",
      "metadata": {
        "id": "view-in-github",
        "colab_type": "text"
      },
      "source": [
        "<a href=\"https://colab.research.google.com/github/aneesh1818/b3_PDS_1120/blob/main/PDS_LAB_5.ipynb\" target=\"_parent\"><img src=\"https://colab.research.google.com/assets/colab-badge.svg\" alt=\"Open In Colab\"/></a>"
      ]
    },
    {
      "cell_type": "code",
      "execution_count": 1,
      "metadata": {
        "colab": {
          "base_uri": "https://localhost:8080/"
        },
        "id": "dZZBSt0BM4pM",
        "outputId": "a96461c6-313c-4a1e-c0aa-d652b3a8366a"
      },
      "outputs": [
        {
          "output_type": "stream",
          "name": "stdout",
          "text": [
            "Inner Join:\n",
            "    product_id product_name     category  price  sale_id  quantity  revenue\n",
            "0         101       Laptop  Electronics    900        1         5     4500\n",
            "1         101       Laptop  Electronics    900        3         2     1800\n",
            "2         102   Smartphone  Electronics    600        2        10     6000\n",
            "3         102   Smartphone  Electronics    600        6         3     1800\n",
            "4         103       Tablet  Electronics    300        5         7     2100\n",
            "5         104   Headphones  Accessories    150        4         8     1200\n",
            "\n",
            "Outer Join:\n",
            "    product_id product_name     category  price  sale_id  quantity\n",
            "0         101       Laptop  Electronics    900        1         5\n",
            "1         101       Laptop  Electronics    900        3         2\n",
            "2         102   Smartphone  Electronics    600        2        10\n",
            "3         102   Smartphone  Electronics    600        6         3\n",
            "4         103       Tablet  Electronics    300        5         7\n",
            "5         104   Headphones  Accessories    150        4         8\n",
            "\n",
            "Total Revenue: $ 17400\n",
            "Average Price: $ 487.5\n",
            "\n",
            "Product-wise Sales:\n",
            " product_name\n",
            "Headphones     8\n",
            "Laptop         7\n",
            "Smartphone    13\n",
            "Tablet         7\n",
            "Name: quantity, dtype: int64\n",
            "\n",
            "Category-wise Sales:\n",
            " category\n",
            "Accessories     8\n",
            "Electronics    27\n",
            "Name: quantity, dtype: int64\n",
            "\n",
            "Best Selling Category: Electronics\n"
          ]
        }
      ],
      "source": [
        "import pandas as pd\n",
        "\n",
        "a = pd.DataFrame({\n",
        "    'product_id': [101, 102, 103, 104],\n",
        "    'product_name': ['Laptop', 'Smartphone', 'Tablet', 'Headphones'],\n",
        "    'category': ['Electronics', 'Electronics', 'Electronics', 'Accessories'],\n",
        "    'price': [900, 600, 300, 150]\n",
        "})\n",
        "\n",
        "b = pd.DataFrame({\n",
        "    'sale_id': [1, 2, 3, 4, 5, 6],\n",
        "    'product_id': [101, 102, 101, 104, 103, 102],\n",
        "    'quantity': [5, 10, 2, 8, 7, 3]\n",
        "})\n",
        "\n",
        "c = pd.merge(a, b, on='product_id', how='inner')\n",
        "d = pd.merge(a, b, on='product_id', how='outer')\n",
        "\n",
        "c['revenue'] = c['price'] * c['quantity']\n",
        "\n",
        "e = c.groupby('product_name')['quantity'].sum()\n",
        "f = c.groupby('category')['quantity'].sum()\n",
        "g = c['revenue'].sum()\n",
        "h = a['price'].mean()\n",
        "i = f.idxmax()\n",
        "\n",
        "print(\"Inner Join:\\n\", c)\n",
        "print(\"\\nOuter Join:\\n\", d)\n",
        "print(\"\\nTotal Revenue: $\", g)\n",
        "print(\"Average Price: $\", h)\n",
        "print(\"\\nProduct-wise Sales:\\n\", e)\n",
        "print(\"\\nCategory-wise Sales:\\n\", f)\n",
        "print(\"\\nBest Selling Category:\", i)"
      ]
    },
    {
      "cell_type": "code",
      "source": [
        "j = pd.DataFrame({\n",
        "    'teacher_id': [201, 202, 203, 204],\n",
        "    'teacher_name': ['Alice', 'Bob', 'Charlie', 'David'],\n",
        "    'department': ['CS', 'Math', 'Physics', 'CS']\n",
        "})\n",
        "\n",
        "k = pd.DataFrame({\n",
        "    'course_id': [301, 302, 303, 304, 305, 306],\n",
        "    'teacher_id': [201, 202, 201, 204, 203, 202],\n",
        "    'course_name': ['Data Science', 'Algebra', 'AI', 'Networks', 'Quantum', 'Calculus']\n",
        "})\n",
        "\n",
        "l = pd.merge(j, k, on='teacher_id', how='inner')\n",
        "m = pd.merge(j, k, on='teacher_id', how='left')\n",
        "\n",
        "n = m.groupby('teacher_name')['course_name'].count()\n",
        "o = m.groupby('department')['course_name'].count()\n",
        "\n",
        "p = n.mean()\n",
        "\n",
        "print(\"\\nInner Join:\\n\", l)\n",
        "print(\"\\nLeft Join:\\n\", m)\n",
        "print(\"\\nAverage Courses per Teacher:\", p)\n",
        "print(\"\\nCourses per Department:\\n\", o)"
      ],
      "metadata": {
        "colab": {
          "base_uri": "https://localhost:8080/"
        },
        "id": "zGHF5zOSN6wK",
        "outputId": "2a9a3962-0376-4ff7-ce9c-c42a7980fc44"
      },
      "execution_count": 2,
      "outputs": [
        {
          "output_type": "stream",
          "name": "stdout",
          "text": [
            "\n",
            "Inner Join:\n",
            "    teacher_id teacher_name department  course_id   course_name\n",
            "0         201        Alice         CS        301  Data Science\n",
            "1         201        Alice         CS        303            AI\n",
            "2         202          Bob       Math        302       Algebra\n",
            "3         202          Bob       Math        306      Calculus\n",
            "4         203      Charlie    Physics        305       Quantum\n",
            "5         204        David         CS        304      Networks\n",
            "\n",
            "Left Join:\n",
            "    teacher_id teacher_name department  course_id   course_name\n",
            "0         201        Alice         CS        301  Data Science\n",
            "1         201        Alice         CS        303            AI\n",
            "2         202          Bob       Math        302       Algebra\n",
            "3         202          Bob       Math        306      Calculus\n",
            "4         203      Charlie    Physics        305       Quantum\n",
            "5         204        David         CS        304      Networks\n",
            "\n",
            "Average Courses per Teacher: 1.5\n",
            "\n",
            "Courses per Department:\n",
            " department\n",
            "CS         3\n",
            "Math       2\n",
            "Physics    1\n",
            "Name: course_name, dtype: int64\n"
          ]
        }
      ]
    }
  ]
}