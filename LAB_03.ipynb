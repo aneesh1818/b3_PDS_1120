{
  "nbformat": 4,
  "nbformat_minor": 0,
  "metadata": {
    "colab": {
      "provenance": []
    },
    "kernelspec": {
      "name": "python3",
      "display_name": "Python 3"
    },
    "language_info": {
      "name": "python"
    }
  },
  "cells": [
    {
      "cell_type": "code",
      "execution_count": 5,
      "metadata": {
        "colab": {
          "base_uri": "https://localhost:8080/"
        },
        "id": "1M1qyj411Hv3",
        "outputId": "4e88393a-64c4-420e-8fdc-5dcf9e449b4e"
      },
      "outputs": [
        {
          "output_type": "stream",
          "name": "stdout",
          "text": [
            "Addition: \n",
            " [[10 10 10]\n",
            " [10 10 10]\n",
            " [10 10 10]]\n",
            "Subtraction: \n",
            " [[-8 -6 -4]\n",
            " [-2  0  2]\n",
            " [ 4  6  8]]\n"
          ]
        }
      ],
      "source": [
        "import numpy as np\n",
        "mat1 = np.array([[1,2,3],[4,5,6],[7,8,9]])\n",
        "mat2 = np.array([[9,8,7],[6,5,4],[3,2,1]])\n",
        "\n",
        "add = np.add(mat1, mat2)\n",
        "sub = np.subtract(mat1, mat2)\n",
        "\n",
        "print(\"Addition: \\n\", add)\n",
        "print(\"Subtraction: \\n\", sub)"
      ]
    },
    {
      "cell_type": "code",
      "source": [
        "import numpy as np\n",
        "\n",
        "a = np.array([[1, 2],\n",
        "              [3, 4],\n",
        "              [5, 6]])\n",
        "\n",
        "b = np.array([[7, 8, 9],\n",
        "              [10, 11, 12]])\n",
        "\n",
        "dot_res = np.dot(a, b)\n",
        "print(\"Matrix A:\\n\", a)\n",
        "print(\"Matrix B:\\n\", b)\n",
        "print(\"Dot Product Result:\\n\", dot_res)\n"
      ],
      "metadata": {
        "colab": {
          "base_uri": "https://localhost:8080/"
        },
        "id": "G74SKDx64WDM",
        "outputId": "70e04c60-ac18-4eee-da58-afc894c0f3ec"
      },
      "execution_count": 4,
      "outputs": [
        {
          "output_type": "stream",
          "name": "stdout",
          "text": [
            "Matrix A:\n",
            " [[1 2]\n",
            " [3 4]\n",
            " [5 6]]\n",
            "Matrix B:\n",
            " [[ 7  8  9]\n",
            " [10 11 12]]\n",
            "Dot Product Result:\n",
            " [[ 27  30  33]\n",
            " [ 61  68  75]\n",
            " [ 95 106 117]]\n"
          ]
        }
      ]
    },
    {
      "cell_type": "code",
      "source": [
        "file_name = \"student_data.txt\"\n",
        "\n",
        "name = input(\"Enter name: \")\n",
        "marks = input(\"Enter marks: \")\n",
        "\n",
        "with open(file_name, \"a\") as f:\n",
        "    f.write(f\"{name},{marks}\\n\")\n",
        "\n",
        "print(\"\\nAll Entries:\")\n",
        "with open(file_name, \"r\") as f:\n",
        "    for line in f:\n",
        "        n, m = line.strip().split(\",\")\n",
        "        print(f\"Name: {n}, Marks: {m}\")"
      ],
      "metadata": {
        "colab": {
          "base_uri": "https://localhost:8080/"
        },
        "id": "4O4TOAUx51N3",
        "outputId": "3ac9c06a-d07b-4d43-f89d-6000e3de048c"
      },
      "execution_count": 6,
      "outputs": [
        {
          "output_type": "stream",
          "name": "stdout",
          "text": [
            "Enter name: student \n",
            "Enter marks: 40\n",
            "\n",
            "All Entries:\n",
            "Name: student , Marks: 40\n"
          ]
        }
      ]
    },
    {
      "cell_type": "code",
      "source": [],
      "metadata": {
        "id": "ErtPVqD-8fmt"
      },
      "execution_count": null,
      "outputs": []
    }
  ]
}