{
  "nbformat": 4,
  "nbformat_minor": 0,
  "metadata": {
    "colab": {
      "provenance": []
    },
    "kernelspec": {
      "name": "python3",
      "display_name": "Python 3"
    },
    "language_info": {
      "name": "python"
    }
  },
  "cells": [
    {
      "cell_type": "code",
      "execution_count": 1,
      "metadata": {
        "colab": {
          "base_uri": "https://localhost:8080/"
        },
        "id": "B4DrclX-CucB",
        "outputId": "18f43041-6955-4a63-a06a-0254ab561b99"
      },
      "outputs": [
        {
          "output_type": "stream",
          "name": "stdout",
          "text": [
            "Marks Array:\n",
            " [[85 78 92]\n",
            " [67 88 75]\n",
            " [90 94 89]\n",
            " [76 64 70]\n",
            " [82 79 85]]\n",
            "\n",
            "Average Marks per Student: [85.         76.66666667 91.         70.         82.        ]\n",
            "Minimum Marks per Student: [78 67 89 64 79]\n",
            "Maximum Marks per Student: [92 88 94 76 85]\n",
            "\n",
            "Marks of 2nd and 4th student:\n",
            " [[67 88 75]\n",
            " [76 64 70]]\n",
            "\n",
            "Students scoring above 80 in any subject:\n",
            " [[85 78 92]\n",
            " [67 88 75]\n",
            " [90 94 89]\n",
            " [82 79 85]]\n",
            "\n",
            "Reshaped Array (Subject-wise):\n",
            " [[85 67 90 76 82]\n",
            " [78 88 94 64 79]\n",
            " [92 75 89 70 85]]\n"
          ]
        }
      ],
      "source": [
        "import numpy as np\n",
        "\n",
        "marks = np.array([\n",
        "    [85, 78, 92],\n",
        "    [67, 88, 75],\n",
        "    [90, 94, 89],\n",
        "    [76, 64, 70],\n",
        "    [82, 79, 85]\n",
        "])\n",
        "\n",
        "avg_per_student = np.mean(marks, axis=1)\n",
        "min_per_student = np.min(marks, axis=1)\n",
        "max_per_student = np.max(marks, axis=1)\n",
        "\n",
        "print(\"Marks Array:\\n\", marks)\n",
        "print(\"\\nAverage Marks per Student:\", avg_per_student)\n",
        "print(\"Minimum Marks per Student:\", min_per_student)\n",
        "print(\"Maximum Marks per Student:\", max_per_student)\n",
        "\n",
        "print(\"\\nMarks of 2nd and 4th student:\\n\", marks[[1, 3]])\n",
        "\n",
        "high_scorers = np.any(marks > 80, axis=1)\n",
        "print(\"\\nStudents scoring above 80 in any subject:\\n\", marks[high_scorers])\n",
        "\n",
        "reshaped = marks.T\n",
        "print(\"\\nReshaped Array (Subject-wise):\\n\", reshaped)"
      ]
    }
  ]
}